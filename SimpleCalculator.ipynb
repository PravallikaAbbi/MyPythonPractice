{
 "cells": [
  {
   "cell_type": "markdown",
   "metadata": {},
   "source": [
    "## Simple Calculator"
   ]
  },
  {
   "cell_type": "markdown",
   "metadata": {},
   "source": [
    "You are required to create a simple calculator that returns the result of addition, subtraction, multiplication or division of two numbers.\n",
    "\n",
    "Your function will accept three arguments:\n",
    "The first and second argument should be numbers.\n",
    "The third argument should represent a sign indicating the operation to perform on these two numbers.\n",
    "\n",
    "if the variables are not numbers or the sign does not belong to the list above a message \"unknown value\" must be returned.\n",
    "\n",
    "Example:\n",
    "calculator(1, 2, '+') => 3\n",
    "calculator(1, 2, '$') # result will be \"unknown value\""
   ]
  },
  {
   "cell_type": "code",
   "execution_count": 33,
   "metadata": {},
   "outputs": [],
   "source": [
    "def calculator(x,y,op):\n",
    "    if op in ['+','-','*','/'] and str(x).isdigit() and str(y).isdigit():\n",
    "        return eval(str(x)+op+str(y))\n",
    "    else:\n",
    "        return 'unknown value'"
   ]
  },
  {
   "cell_type": "code",
   "execution_count": null,
   "metadata": {},
   "outputs": [],
   "source": [
    "def calculator(x, y, op):\n",
    "    return eval(f'{x}{op}{y}') if type(x) == type(y) == int and str(op) in '+-*/' else 'unknown value'"
   ]
  },
  {
   "cell_type": "code",
   "execution_count": 34,
   "metadata": {},
   "outputs": [
    {
     "data": {
      "text/plain": [
       "'unknown value'"
      ]
     },
     "execution_count": 34,
     "metadata": {},
     "output_type": "execute_result"
    }
   ],
   "source": [
    "calculator(2,3,'&')"
   ]
  },
  {
   "cell_type": "code",
   "execution_count": null,
   "metadata": {},
   "outputs": [],
   "source": [
    "def calculator(x,y,op):\n",
    "    try:\n",
    "        assert op in \"+-*/\"\n",
    "        return eval('%d%s%d' % (x, op, y))\n",
    "    except:\n",
    "        return \"unknown value\""
   ]
  },
  {
   "cell_type": "code",
   "execution_count": null,
   "metadata": {},
   "outputs": [],
   "source": [
    "def calculator(x, y, op):\n",
    "    try:\n",
    "        return {'+': x + y, '-': x - y, '*': x * y, '/': x / y}[op]\n",
    "    except (TypeError, KeyError): \n",
    "        return 'unknown value'"
   ]
  },
  {
   "cell_type": "code",
   "execution_count": null,
   "metadata": {},
   "outputs": [],
   "source": [
    "ops = {\"+\": int.__add__, \"-\": int.__sub__, \"*\": int.__mul__, \"/\": int.__truediv__}\n",
    "\n",
    "def calculator(x, y, op):\n",
    "    if not (isinstance(x, int) and isinstance(y, int) and op in ops):\n",
    "        return \"unknown value\"\n",
    "    return ops[op](x, y)"
   ]
  },
  {
   "cell_type": "code",
   "execution_count": null,
   "metadata": {},
   "outputs": [],
   "source": [
    "def calculator(x,y,op):\n",
    "    if type(x) is int and type(y) is int:\n",
    "        switcher = {\n",
    "            \"+\": x+y,\n",
    "            \"-\": x-y,\n",
    "            \"*\": x*y,\n",
    "            \"/\": x/y\n",
    "        }\n",
    "        return switcher.get(op,\"unknown value\")\n",
    "    else:\n",
    "       return 'unknown value'"
   ]
  },
  {
   "cell_type": "code",
   "execution_count": null,
   "metadata": {},
   "outputs": [],
   "source": [
    "import operator\n",
    "from functools import reduce\n",
    "\n",
    "OPS = {\n",
    "    \"+\": operator.__add__,\n",
    "    \"-\": operator.__sub__,\n",
    "    \"*\": operator.__mul__,\n",
    "    \"/\": operator.__truediv__\n",
    "}\n",
    "\n",
    "\n",
    "def calculator(x, y, op):\n",
    "    return reduce(OPS[op], (x, y)) if op in OPS and type(x) is type(y) is int else 'unknown value'"
   ]
  },
  {
   "cell_type": "code",
   "execution_count": null,
   "metadata": {},
   "outputs": [],
   "source": [
    "def calculator(x,y,op):\n",
    "    if isinstance(x, int) and isinstance(y, int):\n",
    "        op_dict = {'+': x+y, '-': x-y, '*': x*y, '/': x/y}\n",
    "        return op_dict[op] if op in op_dict else 'unknown value'\n",
    "    return 'unknown value'"
   ]
  }
 ],
 "metadata": {
  "kernelspec": {
   "display_name": "Python 3",
   "language": "python",
   "name": "python3"
  },
  "language_info": {
   "codemirror_mode": {
    "name": "ipython",
    "version": 3
   },
   "file_extension": ".py",
   "mimetype": "text/x-python",
   "name": "python",
   "nbconvert_exporter": "python",
   "pygments_lexer": "ipython3",
   "version": "3.7.4"
  }
 },
 "nbformat": 4,
 "nbformat_minor": 2
}
