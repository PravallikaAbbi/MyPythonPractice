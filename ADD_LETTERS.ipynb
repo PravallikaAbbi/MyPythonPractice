{
 "cells": [
  {
   "cell_type": "markdown",
   "metadata": {},
   "source": [
    "Your task is to add up letters to one letter.\n",
    "   The function will be given a variable amount of arguments, each one being a letter to add.\n",
    "\n",
    "Notes:\n",
    "\n",
    "    Letters will always be lowercase.\n",
    "    Letters can overflow (see second to last example of the description)\n",
    "    If no letters are given, the function should return 'z'\n",
    "    \n",
    "Examples:\n",
    "\n",
    "    add_letters('a', 'b', 'c') = 'f'\n",
    "    add_letters('a', 'b') = 'c'\n",
    "    add_letters('z') = 'z'\n",
    "    add_letters('z', 'a') = 'a'\n",
    "    add_letters('y', 'c', 'b') = 'd' # notice the letters overflowing\n",
    "    add_letters() = 'z'\n"
   ]
  },
  {
   "cell_type": "code",
   "execution_count": 18,
   "metadata": {},
   "outputs": [],
   "source": [
    "def add_letters(*letters) :\n",
    "    t_letters = list(letters)\n",
    "    start = 96\n",
    "    total = start\n",
    "    \n",
    "    if len(t_letters) == 0 :\n",
    "        t_letters.append('z')\n",
    "        \n",
    "    for l in t_letters :\n",
    "        num = ord(l)\n",
    "        \n",
    "        if num > start :\n",
    "            total += num - start \n",
    "            \n",
    "        if total > 122 :\n",
    "            total = (total - 122) + start\n",
    "            \n",
    "    return chr(total)\n"
   ]
  },
  {
   "cell_type": "code",
   "execution_count": 23,
   "metadata": {},
   "outputs": [],
   "source": [
    "def add_letters(*letters):\n",
    "    return chr( (sum(ord(c)-96 for c in letters)-1)%26 + 97)"
   ]
  },
  {
   "cell_type": "code",
   "execution_count": null,
   "metadata": {},
   "outputs": [],
   "source": [
    "num = 'abcdefghijklmnopqrstuvwxyz'\n",
    "def add_letters(*letters):\n",
    "    x = 0\n",
    "    x = sum(num.index(i)+1 for i in letters)\n",
    "    while x-1 > 25:\n",
    "        x -= 26\n",
    "        \n",
    "    return num[x-1]"
   ]
  },
  {
   "cell_type": "code",
   "execution_count": null,
   "metadata": {},
   "outputs": [],
   "source": [
    "from string import ascii_lowercase\n",
    "\n",
    "def add_letters(*letters):\n",
    "  return ascii_lowercase[sum(ascii_lowercase.index(c) + 1 for c in letters) % 26 - 1]"
   ]
  },
  {
   "cell_type": "code",
   "execution_count": null,
   "metadata": {},
   "outputs": [],
   "source": [
    "def add_letters(*letters):\n",
    "    alphabet='abcdefghijklmnopqrstuvwxyz'\n",
    "    ans=0\n",
    "    for letters in letters:\n",
    "        ans+=(alphabet.index(letters)+1)\n",
    "    return alphabet[(ans-1)%26]"
   ]
  },
  {
   "cell_type": "code",
   "execution_count": null,
   "metadata": {},
   "outputs": [],
   "source": [
    "def add_letters(*letters):\n",
    "    if not letters: return 'z'\n",
    "    return chr(ord('a') + (sum(map(lambda char:ord(char)-ord('a')+1 , letters))-1)%26)"
   ]
  },
  {
   "cell_type": "code",
   "execution_count": null,
   "metadata": {},
   "outputs": [],
   "source": [
    "def add_letters(*chars):\n",
    "    legend = {'a': 1, 'b': 2, 'c': 3, 'd': 4, 'e': 5, 'f': 6, 'g': 7, 'h': 8, 'i': 9, 'j': 10, 'k': 11, 'l': 12, 'm': 13, 'n': 14, 'o': 15, 'p': 16, 'q': 17, 'r': 18, 's': 19, 't': 20, 'u': 21, 'v': 22, 'w': 23, 'x': 24, 'y': 25, 'z': 26}\n",
    "    summed = 0\n",
    "    for i in range(len(chars)):\n",
    "        if len(chars) == 0:\n",
    "            summed = 'z'\n",
    "            break\n",
    "        summed += legend[chars[i]]\n",
    "        if summed > 26:\n",
    "            summed = summed - 26\n",
    "    charList = list(legend.keys())\n",
    "    targetChar = charList[summed-1]\n",
    "\n",
    "    return targetChar"
   ]
  },
  {
   "cell_type": "code",
   "execution_count": null,
   "metadata": {},
   "outputs": [],
   "source": [
    "from string import ascii_lowercase\n",
    "\n",
    "def add_letters(*letters):\n",
    "    ind = sum([ascii_lowercase.index(x)+1 for x in letters])%26-1\n",
    "    return ascii_lowercase[ind]"
   ]
  },
  {
   "cell_type": "code",
   "execution_count": null,
   "metadata": {},
   "outputs": [],
   "source": [
    "def add_letters(*letters):\n",
    "    return chr(96 + (sum(ord(l) - 96 for l in letters) % 26 or 26))"
   ]
  },
  {
   "cell_type": "code",
   "execution_count": null,
   "metadata": {},
   "outputs": [],
   "source": [
    "def add_letters(*letters):\n",
    "    alphabet = \"zabcdefghijklmnopqrstuvwxyz\"\n",
    "    return alphabet[sum([alphabet.index(letter) for letter in letters]) % 26]"
   ]
  },
  {
   "cell_type": "code",
   "execution_count": null,
   "metadata": {},
   "outputs": [],
   "source": [
    "add_letters = lambda *l: 'abcdefghijklmnopqrstuvwxyz'[(sum(['abcdefghijklmnopqrstuvwxyz'.index(i)+1 for i in l])-1)%26]"
   ]
  },
  {
   "cell_type": "code",
   "execution_count": null,
   "metadata": {},
   "outputs": [],
   "source": [
    "add_letters=lambda *l:chr((sum(ord(c)-96for c in l)-1)%26+97)"
   ]
  },
  {
   "cell_type": "code",
   "execution_count": null,
   "metadata": {},
   "outputs": [],
   "source": [
    "def add_letters(*letters):\n",
    "    #97 == 'a' and 122 = 'z'\n",
    "    alpha_list = ['a', 'b', 'c', 'd', 'e', 'f', 'g', 'h', 'i', 'j', 'k', 'l', 'm', 'n', 'o', 'p', 'q', 'r', 's', 't', 'u', 'v', 'w', 'x', 'y', 'z']\n",
    "    sum = 0\n",
    "    for i in letters:\n",
    "        sum += alpha_list.index(i)+1\n",
    "    \n",
    "    while sum > 26:\n",
    "        sum -= 26\n",
    "    \n",
    "    return alpha_list[sum-1]"
   ]
  },
  {
   "cell_type": "code",
   "execution_count": null,
   "metadata": {},
   "outputs": [],
   "source": [
    "def add_letters(*letters):\n",
    "    OVERFLOW = len(chars)\n",
    "    totals = sum(chars.index(char) for char in letters)\n",
    "    totals += len(letters) - 1\n",
    "    totals %= OVERFLOW\n",
    "    return chars[totals]"
   ]
  },
  {
   "cell_type": "code",
   "execution_count": null,
   "metadata": {},
   "outputs": [],
   "source": [
    "def add_letters(*letters):\n",
    "    sum = 0\n",
    "    lettersNum = ord('z') - ord ('a') + 1\n",
    "\n",
    "    for letter in letters:\n",
    "        sum += ord(letter) - ord('a') + 1\n",
    "    return chr(sum % lettersNum + ord('a') - 1) if sum % lettersNum > 0 else 'z'"
   ]
  },
  {
   "cell_type": "code",
   "execution_count": null,
   "metadata": {},
   "outputs": [],
   "source": [
    "def add_letters(*letters):\n",
    "    letters_sum = sum([ord(letter) - 96 for letter in letters])\n",
    "    if not letters:\n",
    "        return 'z'\n",
    "    return chr(letters_sum % 26 + 96) if letters_sum % 26 > 0 else 'z'"
   ]
  },
  {
   "cell_type": "code",
   "execution_count": null,
   "metadata": {},
   "outputs": [],
   "source": [
    "import string\n",
    "def add_letters(*letters):\n",
    "    letters_sum = 0\n",
    "    for i in letters:\n",
    "        letters_sum += (list(string.ascii_lowercase).index(i)+1)\n",
    "    if len(letters)==0:\n",
    "        return 'z'\n",
    "    else:\n",
    "        while letters_sum > 26:\n",
    "            letters_sum -= 26\n",
    "            \n",
    "        return list(string.ascii_lowercase)[letters_sum-1]"
   ]
  },
  {
   "cell_type": "code",
   "execution_count": null,
   "metadata": {},
   "outputs": [],
   "source": [
    "def add_letters(*letters):\n",
    "    if len(letters) == 0: return 'z'\n",
    "    sm = 0\n",
    "    for i in letters:\n",
    "        sm+=ord(i)-96\n",
    "    while sm > 26:\n",
    "        sm-=26\n",
    "    return chr(sm+96)"
   ]
  },
  {
   "cell_type": "code",
   "execution_count": null,
   "metadata": {},
   "outputs": [],
   "source": [
    "def add_letters(*letters):\n",
    "    s = sum(122-ord(l) for l in letters)\n",
    "    return chr(122 - s % 26)"
   ]
  },
  {
   "cell_type": "code",
   "execution_count": null,
   "metadata": {},
   "outputs": [],
   "source": [
    "def add_letters(*letters):\n",
    "    d = {chr(x+96): x for x in range(1, 26)}\n",
    "    d['z'] = 0\n",
    "    d1 = {v: k for k, v in d.items()}\n",
    "    return d1[sum([d[x] for x in letters])%26] "
   ]
  },
  {
   "cell_type": "code",
   "execution_count": null,
   "metadata": {},
   "outputs": [],
   "source": [
    "def add_letters(*letters):\n",
    "    print(\"letters = {}\".format(letters))\n",
    "    d = {chr(x+96): x for x in range(1, 26)}\n",
    "    d['z'] = 0\n",
    "    d1 = {v: k for k, v in d.items()}\n",
    "    return d1[sum([d[x] for x in letters])%26]"
   ]
  },
  {
   "cell_type": "code",
   "execution_count": null,
   "metadata": {},
   "outputs": [],
   "source": [
    "def add_letters(*letters):\n",
    "    total = sum(ord(l) - 96 for l in letters) - 1\n",
    "    return chr(total % 26 + 97)"
   ]
  },
  {
   "cell_type": "code",
   "execution_count": null,
   "metadata": {},
   "outputs": [],
   "source": [
    "def add_letters(*letters):\n",
    "    res = 0\n",
    "    for x in letters:\n",
    "        res += ord(x) - ord('a') + 1\n",
    "        if res > 26: res -= 26\n",
    "    return 'z' if res==0 else chr(res + ord('a') -1)"
   ]
  },
  {
   "cell_type": "code",
   "execution_count": 24,
   "metadata": {},
   "outputs": [
    {
     "name": "stdout",
     "output_type": "stream",
     "text": [
      "c\n",
      "a\n",
      "f\n",
      "c\n",
      "z\n",
      "a\n",
      "d\n",
      "z\n",
      "r\n",
      "c\n",
      "h\n",
      "u\n",
      "o\n",
      "g\n",
      "p\n"
     ]
    }
   ],
   "source": [
    "print(add_letters('a', 'b', 'z'))\n",
    "print(add_letters('z', 'a'))  \n",
    "print(add_letters('a', 'b', 'c'))  \n",
    "print(add_letters('a', 'b'))\n",
    "print(add_letters('z')  )\n",
    "print(add_letters('z', 'a'))\n",
    "print(add_letters('y', 'c', 'b'))\n",
    "print(add_letters())\n",
    "print(add_letters(\"v\", \"l\", \"j\"))\n",
    "print(add_letters(\"q\", \"l\"))\n",
    "print(add_letters(\"q\", \"f\", \"k\"))\n",
    "print(add_letters(\"f\", \"k\", \"j\", \"v\", \"n\", \"e\", \"e\"))\n",
    "print(add_letters(\"j\", \"u\", \"j\", \"z\"))\n",
    "print(add_letters(\"f\", \"q\", \"j\"))\n",
    "print(add_letters(\"p\"))"
   ]
  },
  {
   "cell_type": "code",
   "execution_count": 22,
   "metadata": {},
   "outputs": [
    {
     "ename": "NameError",
     "evalue": "name 'test' is not defined",
     "output_type": "error",
     "traceback": [
      "\u001b[1;31m---------------------------------------------------------------------------\u001b[0m",
      "\u001b[1;31mNameError\u001b[0m                                 Traceback (most recent call last)",
      "\u001b[1;32m<ipython-input-22-19cde90033ff>\u001b[0m in \u001b[0;36m<module>\u001b[1;34m\u001b[0m\n\u001b[1;32m----> 1\u001b[1;33m \u001b[1;33m@\u001b[0m\u001b[0mtest\u001b[0m\u001b[1;33m.\u001b[0m\u001b[0mdescribe\u001b[0m\u001b[1;33m(\u001b[0m\u001b[1;34m\"Fixed tests\"\u001b[0m\u001b[1;33m)\u001b[0m\u001b[1;33m\u001b[0m\u001b[1;33m\u001b[0m\u001b[0m\n\u001b[0m\u001b[0;32m      2\u001b[0m \u001b[1;32mdef\u001b[0m \u001b[0mfixed_tests\u001b[0m\u001b[1;33m(\u001b[0m\u001b[1;33m)\u001b[0m\u001b[1;33m:\u001b[0m\u001b[1;33m\u001b[0m\u001b[1;33m\u001b[0m\u001b[0m\n\u001b[0;32m      3\u001b[0m     tests = [\n\u001b[0;32m      4\u001b[0m         \u001b[1;33m(\u001b[0m\u001b[1;33m[\u001b[0m\u001b[1;34m'a'\u001b[0m\u001b[1;33m,\u001b[0m \u001b[1;34m'b'\u001b[0m\u001b[1;33m,\u001b[0m \u001b[1;34m'c'\u001b[0m\u001b[1;33m]\u001b[0m\u001b[1;33m,\u001b[0m \u001b[1;34m'f'\u001b[0m\u001b[1;33m)\u001b[0m\u001b[1;33m,\u001b[0m\u001b[1;33m\u001b[0m\u001b[1;33m\u001b[0m\u001b[0m\n\u001b[0;32m      5\u001b[0m         \u001b[1;33m(\u001b[0m\u001b[1;33m[\u001b[0m\u001b[1;34m'z'\u001b[0m\u001b[1;33m]\u001b[0m\u001b[1;33m,\u001b[0m \u001b[1;34m'z'\u001b[0m\u001b[1;33m)\u001b[0m\u001b[1;33m,\u001b[0m\u001b[1;33m\u001b[0m\u001b[1;33m\u001b[0m\u001b[0m\n",
      "\u001b[1;31mNameError\u001b[0m: name 'test' is not defined"
     ]
    }
   ],
   "source": [
    "@test.describe(\"Fixed tests\")\n",
    "def fixed_tests():\n",
    "    tests = [\n",
    "        (['a', 'b', 'c'], 'f'),\n",
    "        (['z'], 'z'),\n",
    "        (['a', 'b'], 'c'),\n",
    "        (['c'], 'c'),\n",
    "        (['z', 'a'], 'a'),\n",
    "        (['y', 'c', 'b'], 'd'),\n",
    "        ([], 'z')\n",
    "    ]\n",
    "    for i, o in tests:\n",
    "        str = ', '.join(['\"' + s + '\"' for s in i])\n",
    "        @test.it(\"add_letters(\" + str + \")\")\n",
    "        def fixed_test():\n",
    "            Test.assert_equals(add_letters(*i), o)"
   ]
  },
  {
   "cell_type": "code",
   "execution_count": null,
   "metadata": {},
   "outputs": [],
   "source": []
  }
 ],
 "metadata": {
  "kernelspec": {
   "display_name": "Python 3",
   "language": "python",
   "name": "python3"
  },
  "language_info": {
   "codemirror_mode": {
    "name": "ipython",
    "version": 3
   },
   "file_extension": ".py",
   "mimetype": "text/x-python",
   "name": "python",
   "nbconvert_exporter": "python",
   "pygments_lexer": "ipython3",
   "version": "3.7.4"
  }
 },
 "nbformat": 4,
 "nbformat_minor": 2
}
