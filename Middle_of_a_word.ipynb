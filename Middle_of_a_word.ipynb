{
 "cells": [
  {
   "cell_type": "markdown",
   "metadata": {},
   "source": [
    "You are going to be given a word. Your job is to return the middle character of the word. If the word's length is odd, return the middle character. If the word's length is even, return the middle 2 characters.\n",
    "\n",
    "#Examples:\n",
    "\n",
    "Kata.getMiddle(\"test\") should return \"es\"\n",
    "\n",
    "Kata.getMiddle(\"testing\") should return \"t\"\n",
    "\n",
    "Kata.getMiddle(\"middle\") should return \"dd\"\n",
    "\n",
    "Kata.getMiddle(\"A\") should return \"A\"\n",
    "#Input\n",
    "\n",
    "A word (string) of length 0 < str < 1000 (In javascript you may get slightly more than 1000 in some test cases due to an error in the test cases). You do not need to test for this. This is only here to tell you that you do not need to worry about your solution timing out.\n",
    "\n",
    "#Output\n",
    "\n",
    "The middle character(s) of the word represented as a string."
   ]
  },
  {
   "cell_type": "code",
   "execution_count": 29,
   "metadata": {},
   "outputs": [],
   "source": [
    "def get_middle(s):\n",
    "    l =len(s)\n",
    "    out=''\n",
    "    if l % 2 ==0:\n",
    "        return s[int(l/2)-1:int(l/2)+1]\n",
    "    else :\n",
    "        return s[int(l/2)]\n",
    "    "
   ]
  },
  {
   "cell_type": "code",
   "execution_count": 45,
   "metadata": {},
   "outputs": [],
   "source": [
    "def get_middle(s):\n",
    "    l =len(s)\n",
    "    if l >0 :\n",
    "        return s[int(l/2)-1:int(l/2)+1] if l % 2 ==0  else s[int(l/2)]\n",
    "    else :\n",
    "        return s\n",
    "        "
   ]
  },
  {
   "cell_type": "code",
   "execution_count": 47,
   "metadata": {},
   "outputs": [
    {
     "data": {
      "text/plain": [
       "''"
      ]
     },
     "execution_count": 47,
     "metadata": {},
     "output_type": "execute_result"
    }
   ],
   "source": [
    "get_middle('')"
   ]
  },
  {
   "cell_type": "code",
   "execution_count": null,
   "metadata": {},
   "outputs": [],
   "source": []
  }
 ],
 "metadata": {
  "kernelspec": {
   "display_name": "Python 3",
   "language": "python",
   "name": "python3"
  },
  "language_info": {
   "codemirror_mode": {
    "name": "ipython",
    "version": 3
   },
   "file_extension": ".py",
   "mimetype": "text/x-python",
   "name": "python",
   "nbconvert_exporter": "python",
   "pygments_lexer": "ipython3",
   "version": "3.7.4"
  }
 },
 "nbformat": 4,
 "nbformat_minor": 2
}
